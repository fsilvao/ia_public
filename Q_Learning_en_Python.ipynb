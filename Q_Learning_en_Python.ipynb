{
  "nbformat": 4,
  "nbformat_minor": 0,
  "metadata": {
    "colab": {
      "provenance": [],
      "authorship_tag": "ABX9TyNma4ImNqDGUmtohWdrV65t",
      "include_colab_link": true
    },
    "kernelspec": {
      "name": "python3",
      "display_name": "Python 3"
    },
    "language_info": {
      "name": "python"
    }
  },
  "cells": [
    {
      "cell_type": "markdown",
      "metadata": {
        "id": "view-in-github",
        "colab_type": "text"
      },
      "source": [
        "<a href=\"https://colab.research.google.com/github/fsilvao/ia_public/blob/main/Q_Learning_en_Python.ipynb\" target=\"_parent\"><img src=\"https://colab.research.google.com/assets/colab-badge.svg\" alt=\"Open In Colab\"/></a>"
      ]
    },
    {
      "cell_type": "code",
      "execution_count": 2,
      "metadata": {
        "colab": {
          "base_uri": "https://localhost:8080/"
        },
        "id": "av7B1Kxw1lfQ",
        "outputId": "80642779-c3e9-4e04-9625-eb4022a3badf"
      },
      "outputs": [
        {
          "output_type": "stream",
          "name": "stderr",
          "text": [
            "/usr/local/lib/python3.10/dist-packages/ipykernel/ipkernel.py:283: DeprecationWarning: `should_run_async` will not call `transform_cell` automatically in the future. Please pass the result to `transformed_cell` argument and any exception that happen during thetransform in `preprocessing_exc_tuple` in IPython 7.17 and above.\n",
            "  and should_run_async(code)\n",
            "/usr/local/lib/python3.10/dist-packages/gym/core.py:317: DeprecationWarning: \u001b[33mWARN: Initializing wrapper in old step API which returns one bool instead of two. It is recommended to set `new_step_api=True` to use new step API. This will be the default behaviour in future.\u001b[0m\n",
            "  deprecation(\n",
            "/usr/local/lib/python3.10/dist-packages/gym/wrappers/step_api_compatibility.py:39: DeprecationWarning: \u001b[33mWARN: Initializing environment in old step API which returns one bool instead of two. It is recommended to set `new_step_api=True` to use new step API. This will be the default behaviour in future.\u001b[0m\n",
            "  deprecation(\n",
            "/usr/local/lib/python3.10/dist-packages/gym/utils/passive_env_checker.py:241: DeprecationWarning: `np.bool8` is a deprecated alias for `np.bool_`.  (Deprecated NumPy 1.24)\n",
            "  if not isinstance(terminated, (bool, np.bool8)):\n"
          ]
        },
        {
          "output_type": "stream",
          "name": "stdout",
          "text": [
            "Tabla Q final:\n",
            "[[0.        0.        0.        0.       ]\n",
            " [0.        0.        0.        0.       ]\n",
            " [0.        0.        0.        0.       ]\n",
            " [0.        0.        0.        0.       ]\n",
            " [0.        0.        0.        0.       ]\n",
            " [0.        0.        0.        0.       ]\n",
            " [0.        0.        0.        0.       ]\n",
            " [0.        0.        0.        0.       ]\n",
            " [0.        0.        0.        0.       ]\n",
            " [0.        0.        0.        0.       ]\n",
            " [0.00891   0.        0.        0.       ]\n",
            " [0.        0.        0.        0.       ]\n",
            " [0.        0.        0.        0.       ]\n",
            " [0.        0.        0.        0.       ]\n",
            " [0.        0.        0.0909801 0.       ]\n",
            " [0.        0.        0.        0.       ]]\n"
          ]
        }
      ],
      "source": [
        "import gym\n",
        "import numpy as np\n",
        "\n",
        "# Crear el entorno\n",
        "env = gym.make(\"FrozenLake-v1\") # Changed from FrozenLake-v0 to FrozenLake-v1\n",
        "\n",
        "# Inicializar la tabla Q con ceros\n",
        "Q = np.zeros([env.observation_space.n, env.action_space.n])\n",
        "\n",
        "# Parámetros de aprendizaje\n",
        "alpha = 0.1  # Tasa de aprendizaje\n",
        "gamma = 0.99  # Factor de descuento\n",
        "epsilon = 0.1  # Tasa de exploración\n",
        "num_episodes = 1000\n",
        "\n",
        "# Entrenamiento\n",
        "for episode in range(num_episodes):\n",
        "    state = env.reset()\n",
        "    done = False\n",
        "\n",
        "    while not done:\n",
        "        # Seleccionar una acción utilizando una política epsilon-greedy\n",
        "        if np.random.uniform(0, 1) < epsilon:\n",
        "            action = env.action_space.sample()\n",
        "        else:\n",
        "            action = np.argmax(Q[state, :])\n",
        "\n",
        "        # Tomar la acción y observar el resultado\n",
        "        next_state, reward, done, _ = env.step(action)\n",
        "\n",
        "        # Actualizar la tabla Q\n",
        "        Q[state, action] = Q[state, action] + alpha * (reward + gamma * np.max(Q[next_state, :]) - Q[state, action])\n",
        "\n",
        "        # Actualizar el estado\n",
        "        state = next_state\n",
        "\n",
        "print(\"Tabla Q final:\")\n",
        "print(Q)"
      ]
    }
  ]
}